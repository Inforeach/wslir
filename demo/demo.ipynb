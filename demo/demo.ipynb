{
 "cells": [
  {
   "cell_type": "code",
   "execution_count": null,
   "metadata": {},
   "outputs": [],
   "source": [
    "from IPython.display import clear_output\n",
    "from demo import *"
   ]
  },
  {
   "cell_type": "code",
   "execution_count": null,
   "metadata": {},
   "outputs": [],
   "source": [
    "%%time\n",
    "# get a list of available tkrs\n",
    "a = getTkrs()\n",
    "adf = pd.DataFrame(a)\n",
    "adf"
   ]
  },
  {
   "cell_type": "code",
   "execution_count": null,
   "metadata": {},
   "outputs": [],
   "source": [
    "%%time\n",
    "countTS()"
   ]
  },
  {
   "cell_type": "code",
   "execution_count": null,
   "metadata": {},
   "outputs": [],
   "source": [
    "%%time\n",
    "countPts()"
   ]
  },
  {
   "cell_type": "code",
   "execution_count": null,
   "metadata": {},
   "outputs": [],
   "source": [
    "a[100] # print the 100th tkr(retieved in previous step)"
   ]
  },
  {
   "cell_type": "code",
   "execution_count": null,
   "metadata": {},
   "outputs": [],
   "source": [
    "# Get the close series and print first and last values\n",
    "tkr=a[40]\n",
    "\n",
    "ts = ds.get_time_series('{}.close'.format(tkr))\n",
    "cal = ts.get_calendar()\n",
    "print(ts.get_name())\n",
    "print(\"{} {:2.2f}\".format(ts.get_first_date(), ts.get_double(ts.get_first_date_int())))\n",
    "print(\"{} {:2.2f}\".format(cal.to_date( ts.get_first_date_int()+1), ts.get_double(ts.get_first_date_int()+1)))\n",
    "print('...')\n",
    "print(\"{} {:2.2f}\".format(cal.to_date(ts.get_last_date_int()-1), ts.get_double(ts.get_last_date_int()-1)))\n",
    "print(\"{} {:2.2f}\".format(ts.get_last_date(), ts.get_double(ts.get_last_date_int())))"
   ]
  },
  {
   "cell_type": "code",
   "execution_count": null,
   "metadata": {},
   "outputs": [],
   "source": [
    "tkr=a[50]\n",
    "#tkr='DE'\n",
    "\n",
    "# Get ALL history, but display only 2 weeks\n",
    "b = getOHLCV(tkr)\n",
    "print(\"Tkr: {}\".format(tkr.upper()))\n",
    "b"
   ]
  },
  {
   "cell_type": "code",
   "execution_count": null,
   "metadata": {},
   "outputs": [],
   "source": [
    "%%time\n",
    "# Just time retrieval and instantiation of TS\n",
    "tkr='spy'\n",
    "ts = ds.get_time_series(\"{}.close\".format(tkr))"
   ]
  },
  {
   "cell_type": "code",
   "execution_count": null,
   "metadata": {},
   "outputs": [],
   "source": [
    "# CREATE Graph and Table output for selected Tkr in Dropdown @ selected Frequency\n",
    "\n",
    "# setup dropdowns for tkr and freq\n",
    "textbox = widgets.Dropdown(options=getTkrs(), value='A', description='Symbol:')\n",
    "tbox2 = widgets.Dropdown(options=[('Daily',native_calendar_type.business()),\n",
    "                                  ('Weekly',native_calendar_type.weekly_friday()),\n",
    "                                  ('Monthly',native_calendar_type.monthly()),\n",
    "                                  ('Quarterly',native_calendar_type.quarterly_december()),\n",
    "                                  ('Annually',native_calendar_type.annual_december())], index=3,description='Frequency:')\n",
    "hbox1 = widgets.HBox([textbox,tbox2])\n",
    "\n",
    "# create bar chart widget\n",
    "g = go.FigureWidget(data=[go.Line(name='Close')], \n",
    "                    layout=go.Layout(autosize=False, width=800,title=dict(text='Closing Prices ({})'.format(tkr.upper())),\n",
    "                                    margin=dict(b=0, t=50,l=50,r=50,pad=2)))\n",
    "g2 = go.FigureWidget(data=[go.Bar(name='Volume')], \n",
    "                     layout=go.Layout(autosize=False, width=800, height=250,title=dict(text='Volumes ({})'.format(tkr.upper())),\n",
    "                                    margin=dict(b=50, t=50,l=50,r=50,pad=2)))\n",
    "\n",
    "# capture stdout|err to display\n",
    "out = widgets.Output()\n",
    "display(out)\n",
    "\n",
    "# callback for tkr/freq selected \n",
    "@out.capture()\n",
    "def response(change):\n",
    "    tkr = textbox.value\n",
    "    ts = ds.get_time_series(\"{}.close\".format(tkr))\n",
    "    tsv = ds.get_time_series(\"{}.volume\".format(tkr))\n",
    "    tsa = time_scale_adapter_factory.get_adapter( ts, tbox2.value )\n",
    "    tsva = time_scale_adapter_factory.get_adapter( tsv, tbox2.value )\n",
    "    b = tsa.begin(); e = tsa.end(); bv = tsva.begin()\n",
    "    index = []; values = []; vols = []\n",
    "    while b != e:\n",
    "        index.append( b.get_date() )\n",
    "        values.append( [ \"{}\".format(b.get_date()), b.get_double()] )\n",
    "        vols.append( [ \"{}\".format(bv.get_date()), bv.get_double()] )\n",
    "        b.next(); bv.next()\n",
    "    df = pd.DataFrame(values, index=index, columns=['Date','Close'])\n",
    "    dfv = pd.DataFrame(vols, index=index, columns=['Date','Volume'])\n",
    "    with g.batch_update():\n",
    "        g.data[0].x = df['Date']\n",
    "        g.data[0].y = df['Close']\n",
    "        g2.data[0].x = dfv['Date']\n",
    "        g2.data[0].y = dfv['Volume']\n",
    "        g.layout.title.text='Closing Prices ({})'.format(tkr.upper())\n",
    "        g2.layout.title.text='Volumes ({})'.format(tkr.upper())\n",
    "    clear_output( wait=True )\n",
    "    display(hbox1)\n",
    "    #print('\\n')\n",
    "    g.show()\n",
    "    g2.show()\n",
    "    table = ff.create_table(getOHLCV(tkr))\n",
    "    table.layout.autosize=False\n",
    "    table.layout.width=800\n",
    "    #print(\"Previous 2 weeks:\\n\")\n",
    "    table.show()\n",
    "\n",
    "# register callbacks for tkr/freq selection\n",
    "textbox.observe(response, names='value')\n",
    "tbox2.observe(response, names='value')\n",
    "textbox.index=3\n",
    "# show tkr/freq dropdowns\n",
    "display(hbox1)"
   ]
  },
  {
   "cell_type": "code",
   "execution_count": null,
   "metadata": {},
   "outputs": [],
   "source": [
    "help(go.Bar)"
   ]
  }
 ],
 "metadata": {
  "kernelspec": {
   "name": "python3",
   "display_name": "Python 3.6.8 64-bit ('env')",
   "metadata": {
    "interpreter": {
     "hash": "ab081ccda41830c73d6a0448be7ea66514128d79a36b33840dbd80888ead9865"
    }
   }
  },
  "language_info": {
   "codemirror_mode": {
    "name": "ipython",
    "version": 3
   },
   "file_extension": ".py",
   "mimetype": "text/x-python",
   "name": "python",
   "nbconvert_exporter": "python",
   "pygments_lexer": "ipython3",
   "version": "3.6.8-final"
  }
 },
 "nbformat": 4,
 "nbformat_minor": 4
}